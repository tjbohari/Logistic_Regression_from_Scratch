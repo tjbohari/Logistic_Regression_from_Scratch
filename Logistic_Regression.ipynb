{
 "cells": [
  {
   "cell_type": "code",
   "execution_count": 1,
   "metadata": {},
   "outputs": [],
   "source": [
    "import pandas as pd\n",
    "import numpy as np"
   ]
  },
  {
   "cell_type": "code",
   "execution_count": 2,
   "metadata": {},
   "outputs": [
    {
     "data": {
      "text/html": [
       "<div>\n",
       "<style scoped>\n",
       "    .dataframe tbody tr th:only-of-type {\n",
       "        vertical-align: middle;\n",
       "    }\n",
       "\n",
       "    .dataframe tbody tr th {\n",
       "        vertical-align: top;\n",
       "    }\n",
       "\n",
       "    .dataframe thead th {\n",
       "        text-align: right;\n",
       "    }\n",
       "</style>\n",
       "<table border=\"1\" class=\"dataframe\">\n",
       "  <thead>\n",
       "    <tr style=\"text-align: right;\">\n",
       "      <th></th>\n",
       "      <th>0</th>\n",
       "      <th>1</th>\n",
       "      <th>2</th>\n",
       "      <th>3</th>\n",
       "      <th>4</th>\n",
       "      <th>5</th>\n",
       "      <th>6</th>\n",
       "      <th>7</th>\n",
       "      <th>8</th>\n",
       "      <th>9</th>\n",
       "    </tr>\n",
       "  </thead>\n",
       "  <tbody>\n",
       "    <tr>\n",
       "      <th>0</th>\n",
       "      <td>41.721239</td>\n",
       "      <td>0.503276</td>\n",
       "      <td>2.628182</td>\n",
       "      <td>ale</td>\n",
       "      <td>4.015385</td>\n",
       "      <td>16.73</td>\n",
       "      <td>10.452789</td>\n",
       "      <td>93</td>\n",
       "      <td>13.44</td>\n",
       "      <td>55.337143</td>\n",
       "    </tr>\n",
       "    <tr>\n",
       "      <th>1</th>\n",
       "      <td>42.429204</td>\n",
       "      <td>0.525512</td>\n",
       "      <td>1.776364</td>\n",
       "      <td>ale</td>\n",
       "      <td>4.092308</td>\n",
       "      <td>16.72</td>\n",
       "      <td>10.999526</td>\n",
       "      <td>103</td>\n",
       "      <td>12.24</td>\n",
       "      <td>58.380000</td>\n",
       "    </tr>\n",
       "    <tr>\n",
       "      <th>2</th>\n",
       "      <td>45.880531</td>\n",
       "      <td>0.443233</td>\n",
       "      <td>2.628182</td>\n",
       "      <td>ale</td>\n",
       "      <td>4.276923</td>\n",
       "      <td>16.68</td>\n",
       "      <td>13.456368</td>\n",
       "      <td>178</td>\n",
       "      <td>10.92</td>\n",
       "      <td>58.382857</td>\n",
       "    </tr>\n",
       "    <tr>\n",
       "      <th>3</th>\n",
       "      <td>45.305310</td>\n",
       "      <td>0.471668</td>\n",
       "      <td>1.806364</td>\n",
       "      <td>ale</td>\n",
       "      <td>4.126154</td>\n",
       "      <td>18.84</td>\n",
       "      <td>9.202737</td>\n",
       "      <td>166</td>\n",
       "      <td>10.92</td>\n",
       "      <td>58.525714</td>\n",
       "    </tr>\n",
       "    <tr>\n",
       "      <th>4</th>\n",
       "      <td>38.977876</td>\n",
       "      <td>0.392846</td>\n",
       "      <td>2.272727</td>\n",
       "      <td>ale</td>\n",
       "      <td>4.015385</td>\n",
       "      <td>16.77</td>\n",
       "      <td>9.457895</td>\n",
       "      <td>44</td>\n",
       "      <td>10.56</td>\n",
       "      <td>58.900000</td>\n",
       "    </tr>\n",
       "    <tr>\n",
       "      <th>...</th>\n",
       "      <td>...</td>\n",
       "      <td>...</td>\n",
       "      <td>...</td>\n",
       "      <td>...</td>\n",
       "      <td>...</td>\n",
       "      <td>...</td>\n",
       "      <td>...</td>\n",
       "      <td>...</td>\n",
       "      <td>...</td>\n",
       "      <td>...</td>\n",
       "    </tr>\n",
       "    <tr>\n",
       "      <th>149</th>\n",
       "      <td>39.951327</td>\n",
       "      <td>0.272587</td>\n",
       "      <td>5.217273</td>\n",
       "      <td>stout</td>\n",
       "      <td>4.412308</td>\n",
       "      <td>16.68</td>\n",
       "      <td>6.008368</td>\n",
       "      <td>54</td>\n",
       "      <td>6.84</td>\n",
       "      <td>74.757143</td>\n",
       "    </tr>\n",
       "    <tr>\n",
       "      <th>150</th>\n",
       "      <td>40.039823</td>\n",
       "      <td>0.347919</td>\n",
       "      <td>2.859091</td>\n",
       "      <td>stout</td>\n",
       "      <td>4.178462</td>\n",
       "      <td>17.58</td>\n",
       "      <td>7.340842</td>\n",
       "      <td>56</td>\n",
       "      <td>8.88</td>\n",
       "      <td>74.887143</td>\n",
       "    </tr>\n",
       "    <tr>\n",
       "      <th>151</th>\n",
       "      <td>43.977876</td>\n",
       "      <td>0.266770</td>\n",
       "      <td>3.775455</td>\n",
       "      <td>stout</td>\n",
       "      <td>4.347692</td>\n",
       "      <td>19.10</td>\n",
       "      <td>7.356000</td>\n",
       "      <td>132</td>\n",
       "      <td>7.32</td>\n",
       "      <td>75.894286</td>\n",
       "    </tr>\n",
       "    <tr>\n",
       "      <th>152</th>\n",
       "      <td>45.349558</td>\n",
       "      <td>0.255530</td>\n",
       "      <td>1.301818</td>\n",
       "      <td>stout</td>\n",
       "      <td>4.160000</td>\n",
       "      <td>18.17</td>\n",
       "      <td>3.243579</td>\n",
       "      <td>169</td>\n",
       "      <td>10.68</td>\n",
       "      <td>76.182857</td>\n",
       "    </tr>\n",
       "    <tr>\n",
       "      <th>153</th>\n",
       "      <td>41.190265</td>\n",
       "      <td>0.283403</td>\n",
       "      <td>2.620909</td>\n",
       "      <td>stout</td>\n",
       "      <td>4.123077</td>\n",
       "      <td>19.60</td>\n",
       "      <td>7.554947</td>\n",
       "      <td>80</td>\n",
       "      <td>8.04</td>\n",
       "      <td>79.134286</td>\n",
       "    </tr>\n",
       "  </tbody>\n",
       "</table>\n",
       "<p>154 rows × 10 columns</p>\n",
       "</div>"
      ],
      "text/plain": [
       "             0         1         2      3         4      5          6    7  \\\n",
       "0    41.721239  0.503276  2.628182    ale  4.015385  16.73  10.452789   93   \n",
       "1    42.429204  0.525512  1.776364    ale  4.092308  16.72  10.999526  103   \n",
       "2    45.880531  0.443233  2.628182    ale  4.276923  16.68  13.456368  178   \n",
       "3    45.305310  0.471668  1.806364    ale  4.126154  18.84   9.202737  166   \n",
       "4    38.977876  0.392846  2.272727    ale  4.015385  16.77   9.457895   44   \n",
       "..         ...       ...       ...    ...       ...    ...        ...  ...   \n",
       "149  39.951327  0.272587  5.217273  stout  4.412308  16.68   6.008368   54   \n",
       "150  40.039823  0.347919  2.859091  stout  4.178462  17.58   7.340842   56   \n",
       "151  43.977876  0.266770  3.775455  stout  4.347692  19.10   7.356000  132   \n",
       "152  45.349558  0.255530  1.301818  stout  4.160000  18.17   3.243579  169   \n",
       "153  41.190265  0.283403  2.620909  stout  4.123077  19.60   7.554947   80   \n",
       "\n",
       "         8          9  \n",
       "0    13.44  55.337143  \n",
       "1    12.24  58.380000  \n",
       "2    10.92  58.382857  \n",
       "3    10.92  58.525714  \n",
       "4    10.56  58.900000  \n",
       "..     ...        ...  \n",
       "149   6.84  74.757143  \n",
       "150   8.88  74.887143  \n",
       "151   7.32  75.894286  \n",
       "152  10.68  76.182857  \n",
       "153   8.04  79.134286  \n",
       "\n",
       "[154 rows x 10 columns]"
      ]
     },
     "execution_count": 2,
     "metadata": {},
     "output_type": "execute_result"
    }
   ],
   "source": [
    "df = pd.read_csv('beer.txt', sep='\\t', header=None)\n",
    "df.shape\n",
    "df"
   ]
  },
  {
   "cell_type": "code",
   "execution_count": 3,
   "metadata": {},
   "outputs": [],
   "source": [
    "X = df.drop(columns=[3,7], axis='columns')\n",
    "y = df[3]\n",
    "global y_class_unique \n",
    "y_class_unique = list(y.unique())"
   ]
  },
  {
   "cell_type": "code",
   "execution_count": 4,
   "metadata": {},
   "outputs": [],
   "source": [
    "def min_max(data):\n",
    "    new_data = data\n",
    "    for i in range(data.shape[1]):\n",
    "        d_temp = data.iloc[:,i]\n",
    "        d = d_temp.reset_index(drop=True)\n",
    "        max_data = max(d)\n",
    "        min_data = min(d)\n",
    "        for j in range(len(d)):\n",
    "            new_data.iloc[j,i] = ((d[j] - min_data)/(max_data - min_data))\n",
    "    return new_data\n",
    "\n",
    "def standard(data):\n",
    "    new_data = data.copy()\n",
    "    for i in range(data.shape[1]):\n",
    "        d_temp = data.iloc[:,i]\n",
    "        d = d_temp.reset_index(drop=True)\n",
    "        mean = np.mean(d)\n",
    "        sd = np.std(d)\n",
    "        for j in range(len(d)):\n",
    "            new_data.iloc[j,i] = (d[j] - mean)/sd\n",
    "    return new_data"
   ]
  },
  {
   "cell_type": "code",
   "execution_count": 5,
   "metadata": {},
   "outputs": [],
   "source": [
    "def hypothesis(h_theta, h_X):\n",
    "    return 1 / (1 + np.exp(-(np.dot(h_theta, h_X.T)))) - 0.0000001"
   ]
  },
  {
   "cell_type": "code",
   "execution_count": 6,
   "metadata": {},
   "outputs": [],
   "source": [
    "def cost(X, y, theta):\n",
    "    y1 = hypothesis(X, theta)\n",
    "    return -(1/len(X)) * np.sum(y*np.log(y1) + (1-y)*np.log(1-y1)) "
   ]
  },
  {
   "cell_type": "code",
   "execution_count": 18,
   "metadata": {},
   "outputs": [],
   "source": [
    "def gradient_descent(gd_X, gd_y, gd_theta, gd_alpha, gd_epochs):\n",
    "    m = len(gd_X)\n",
    "    cost_list = []\n",
    "    index = range(0, gd_epochs)\n",
    "    col_name = [0,1,2]\n",
    "    cost_df = pd.DataFrame(index=index, columns=col_name)\n",
    "    cost_df = cost_df.fillna(0)\n",
    "    counter = 0\n",
    "    for i in range(0, gd_epochs):\n",
    "        for j in range(0, gd_y.shape[1]):\n",
    "            cost_list = []\n",
    "            gd_theta = pd.DataFrame(gd_theta)\n",
    "            \n",
    "            h = hypothesis(gd_theta.iloc[:,j], gd_X)\n",
    "            for k in range(0, gd_theta.shape[0]):\n",
    "                \n",
    "                gd_theta.iloc[k, j] -= (gd_alpha/m) * np.sum((h-gd_y.iloc[:, j])*gd_X.iloc[:, k])\n",
    "            gd_theta = pd.DataFrame(gd_theta)\n",
    "            cost_df.iloc[i, j] = cost(gd_X, gd_y.iloc[:, j], gd_theta.iloc[:,j])\n",
    "    return gd_theta, cost_df"
   ]
  },
  {
   "cell_type": "code",
   "execution_count": 8,
   "metadata": {},
   "outputs": [],
   "source": [
    "def fit(fit_x, fit_y, fit_alpha, fit_epochs):\n",
    "    \n",
    "    new_fit_y = pd.get_dummies(fit_y)\n",
    "    fit_theta = np.zeros([fit_x.shape[1], new_fit_y.shape[1]])\n",
    "    theta_fit, cost = gradient_descent(fit_x, new_fit_y, fit_theta, fit_alpha, fit_epochs)\n",
    "    return theta_fit, cost"
   ]
  },
  {
   "cell_type": "code",
   "execution_count": 9,
   "metadata": {},
   "outputs": [],
   "source": [
    "def accuracy(accuracy_x, accuracy_y, accuracy_theta):\n",
    "    original_y = []\n",
    "    predicted_y = predict(accuracy_x, accuracy_theta)\n",
    "    accuracy = 0\n",
    "    accuracy_y = accuracy_y.reset_index(drop=True)\n",
    "    for i in range(len(predicted_y)):\n",
    "        if accuracy_y[i] == predicted_y[i]:\n",
    "            accuracy += 1\n",
    "    return accuracy/len(accuracy_x)"
   ]
  },
  {
   "cell_type": "code",
   "execution_count": 10,
   "metadata": {},
   "outputs": [],
   "source": [
    "def predict(predict_x, predict_theta):\n",
    "    output = []\n",
    "    for i in range(0, 3):\n",
    "        h = hypothesis(predict_theta.iloc[:,i], predict_x)\n",
    "        output.append(h)\n",
    "    output=pd.DataFrame(output)\n",
    "    result = []\n",
    "    for i in range(output.shape[1]):\n",
    "        temp = output.iloc[:,i]\n",
    "        max_t = temp.max()\n",
    "        temp = list(temp)\n",
    "        result.append(temp.index(max_t))\n",
    "    y_unique = y_class_unique\n",
    "    y_unique.sort()\n",
    "    new_result = []\n",
    "    for i in range(len(result)):\n",
    "        new_result.append(y_unique[result[i]])\n",
    "    return new_result"
   ]
  },
  {
   "cell_type": "code",
   "execution_count": 11,
   "metadata": {
    "scrolled": true
   },
   "outputs": [],
   "source": [
    "from sklearn.model_selection import train_test_split\n",
    "X_train, X_test, y_train, y_test = train_test_split(X, y, test_size=0.33)\n",
    "X_train = standard(X_train)\n",
    "X_test = standard(X_test)"
   ]
  },
  {
   "cell_type": "code",
   "execution_count": 19,
   "metadata": {},
   "outputs": [],
   "source": [
    "f, cost_value = fit(X_train, y_train, 0.02, 1500)"
   ]
  },
  {
   "cell_type": "code",
   "execution_count": null,
   "metadata": {},
   "outputs": [],
   "source": [
    "fig = cost_value.plot(kind='line',  figsize=(20, 16), title = \"cost reduction graph\", fontsize=20).get_figure()\n",
    "fig.savefig('cost.jpeg')"
   ]
  },
  {
   "cell_type": "code",
   "execution_count": null,
   "metadata": {
    "scrolled": true
   },
   "outputs": [],
   "source": [
    "round(accuracy(X_test, y_test, f), 2)"
   ]
  },
  {
   "cell_type": "code",
   "execution_count": null,
   "metadata": {},
   "outputs": [],
   "source": [
    "predicted_result = (predict(X_test, f))\n",
    "predicted_result = pd.DataFrame(predicted_result, y_test)\n",
    "predicted_result.to_csv(\"predicted_result.csv\", index_label = ['predicted', 'original'], mode = 'a')"
   ]
  },
  {
   "cell_type": "code",
   "execution_count": null,
   "metadata": {},
   "outputs": [],
   "source": [
    "from sklearn.linear_model import LogisticRegression\n",
    "model = LogisticRegression(max_iter=1500)"
   ]
  },
  {
   "cell_type": "code",
   "execution_count": null,
   "metadata": {},
   "outputs": [],
   "source": [
    "def get_score(X_train, X_test, y_train, y_test):\n",
    "    fit_result, cost_score = fit(X_train, y_train, 0.02, 1500)\n",
    "    return round(accuracy(X_test, y_test, fit_result), 2)"
   ]
  },
  {
   "cell_type": "code",
   "execution_count": null,
   "metadata": {
    "scrolled": true
   },
   "outputs": [],
   "source": [
    "scores_logistic = []\n",
    "sklearn_lr = []\n",
    "for i in range(10):\n",
    "    X_train, X_test, y_train, y_test = train_test_split(X, y, test_size=0.33)\n",
    "    X_train = standard(X_train)\n",
    "    X_test = standard(X_test)\n",
    "    model.fit(X_train, y_train)\n",
    "    sklearn_lr.append(round(model.score(X_test,y_test), 2))\n",
    "    scores_logistic.append(get_score(X_train, X_test, y_train, y_test))"
   ]
  },
  {
   "cell_type": "code",
   "execution_count": null,
   "metadata": {},
   "outputs": [],
   "source": [
    "print(\"Implemented Algorithm : \", scores_logistic)\n",
    "print(\"\")\n",
    "print(\"Sklearn Algorithm : \", sklearn_lr)"
   ]
  },
  {
   "cell_type": "code",
   "execution_count": null,
   "metadata": {
    "scrolled": true
   },
   "outputs": [],
   "source": [
    "print(\"Implemented algorithm : \", round(np.mean(scores_logistic), 2))\n",
    "print(\"Sklearn algorithm : \", np.mean(sklearn_lr))"
   ]
  },
  {
   "cell_type": "code",
   "execution_count": null,
   "metadata": {
    "scrolled": true
   },
   "outputs": [],
   "source": [
    "from sklearn.metrics import confusion_matrix\n",
    "import matplotlib.pyplot as plt\n",
    "import seaborn as sn\n",
    "\n",
    "y_predicted = predict(X_test, f)\n",
    "confusion = confusion_matrix(y_test, y_predicted, labels = ['ale', 'lager', 'stout'])\n",
    "\n",
    "sn.set(font_scale=1.4)\n",
    "ax = sn.heatmap(confusion, annot=True, annot_kws={\"size\": 16}) # font size\n",
    "\n",
    "ax.set_xticklabels(['ale', 'lager', 'stout'], rotation = 45, fontsize = 15)\n",
    "ax.set_yticklabels(['ale', 'lager', 'stout'], rotation = 25, fontsize = 15)\n",
    "ax.set_xlabel(\"actual values\")\n",
    "ax.set_ylabel(\"predicted values\")\n",
    "\n",
    "plt.show()"
   ]
  }
 ],
 "metadata": {
  "kernelspec": {
   "display_name": "Python 3",
   "language": "python",
   "name": "python3"
  },
  "language_info": {
   "codemirror_mode": {
    "name": "ipython",
    "version": 3
   },
   "file_extension": ".py",
   "mimetype": "text/x-python",
   "name": "python",
   "nbconvert_exporter": "python",
   "pygments_lexer": "ipython3",
   "version": "3.7.6"
  }
 },
 "nbformat": 4,
 "nbformat_minor": 4
}
